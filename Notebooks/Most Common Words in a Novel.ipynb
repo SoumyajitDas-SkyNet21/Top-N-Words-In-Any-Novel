{
 "cells": [
  {
   "cell_type": "markdown",
   "id": "7117f974-951d-4692-b124-e77b75edfca9",
   "metadata": {},
   "source": [
    "### Project Objective "
   ]
  },
  {
   "cell_type": "markdown",
   "id": "16f85807-af2f-4345-a24c-5f23e0cbf92b",
   "metadata": {},
   "source": [
    "* Most Frequnt Words in a novel "
   ]
  },
  {
   "cell_type": "markdown",
   "id": "11c51f1d-3830-4335-acda-c3d022a0fc0f",
   "metadata": {},
   "source": [
    "### Technology Used \n",
    "\n",
    "* Natural Language Processing(NLP)\n",
    "* Web Scraping "
   ]
  },
  {
   "cell_type": "markdown",
   "id": "125d5a2b-9f20-4c5a-ad0d-26a7eaab80cf",
   "metadata": {},
   "source": [
    "### Project Details "
   ]
  },
  {
   "cell_type": "markdown",
   "id": "83f2f84f-223e-4dfe-9386-7206b480a247",
   "metadata": {},
   "source": [
    "* Scrape any novel Moby from the website Project Gutenberg (which contains a large corpus of books) using the Python requests package.\n",
    "* Extract words from this web data using BeautifulSoup before analyzing the distribution of words using the Natural Language ToolKit (nltk) and Counter\n",
    "* Visualizing Top-Ten Words using Wordcloud"
   ]
  },
  {
   "cell_type": "markdown",
   "id": "2961e5f9-e787-490c-a7df-8f1eda7b58e5",
   "metadata": {},
   "source": [
    "### Steps to perform\n",
    "\n",
    "- Request the Novel's HTML file using requests and encoding it to utf-8.\n",
    "\n",
    "- Extract HTML and create a BeautifulSoup object using an HTML parser to get the text\n",
    "\n",
    "- Initialize a regex tokenizer to keep only alphanumeric text, assigning the results to tokens.\n",
    "\n",
    "- Transform the tokens into lowercase, removing English stop words, saving results to words_no_stop.\n",
    "\n",
    "- Initialize a Counter object and find the ten most common words, savign the results to top_ten and printing to see what they are\n",
    "\n",
    "- Display the most common words using a Wordcloud\n",
    "  "
   ]
  },
  {
   "cell_type": "markdown",
   "id": "efbdb37f-a00e-4844-91ea-872f6919f774",
   "metadata": {},
   "source": [
    "### Python Packages Required \n",
    "\n",
    "- requests\n",
    "- bs4\n",
    "- nltk\n",
    "- collections\n",
    "-  re\n",
    "- matplotlib\n",
    "- wordcloud\n"
   ]
  },
  {
   "cell_type": "markdown",
   "id": "29377f7f-e4f9-44a0-b64d-54ba90dbddd5",
   "metadata": {},
   "source": [
    "#### URL to Scrape"
   ]
  },
  {
   "cell_type": "code",
   "execution_count": 190,
   "id": "f1f914b4-1b68-416e-afac-20476ef77f49",
   "metadata": {},
   "outputs": [],
   "source": [
    "# url of the book\n",
    "# Enter the url of the book\n",
    "url=\"https://www.gutenberg.org/cache/epub/1661/pg1661-images.html\""
   ]
  },
  {
   "cell_type": "markdown",
   "id": "d2bc3867-a179-49d8-b3e3-135554b1ec57",
   "metadata": {},
   "source": [
    "### Code "
   ]
  },
  {
   "cell_type": "code",
   "execution_count": 196,
   "id": "712716d7-c692-430e-af4a-5233eb08d0ab",
   "metadata": {},
   "outputs": [
    {
     "name": "stderr",
     "output_type": "stream",
     "text": [
      "[nltk_data] Downloading package stopwords to\n",
      "[nltk_data]     C:\\Users\\dassa\\AppData\\Roaming\\nltk_data...\n",
      "[nltk_data]   Package stopwords is already up-to-date!\n"
     ]
    },
    {
     "data": {
      "text/plain": [
       "True"
      ]
     },
     "execution_count": 196,
     "metadata": {},
     "output_type": "execute_result"
    }
   ],
   "source": [
    "import requests\n",
    "from bs4 import BeautifulSoup\n",
    "import nltk\n",
    "from collections import Counter\n",
    "import matplotlib.pyplot as plt \n",
    "from wordcloud import WordCloud\n",
    "nltk.download('stopwords')"
   ]
  },
  {
   "cell_type": "markdown",
   "id": "ce5e3b93-cff8-40b3-9b89-04a94147865f",
   "metadata": {},
   "source": [
    "#### Step-1: Requests and Encode the text "
   ]
  },
  {
   "cell_type": "code",
   "execution_count": 199,
   "id": "d3076421-7182-4be7-8555-26313f3a9357",
   "metadata": {},
   "outputs": [],
   "source": [
    "# Requesting the html page for text \n",
    "response=requests.get(url)\n",
    "# Encoding the text to utf-8 format \n",
    "response.encoding='utf-8'"
   ]
  },
  {
   "cell_type": "markdown",
   "id": "a172fe96-d642-4394-8a50-cf5d2f47f2f3",
   "metadata": {},
   "source": [
    "#### Step-2: Extracting the Text "
   ]
  },
  {
   "cell_type": "code",
   "execution_count": 201,
   "id": "945b4fa5-1c8d-4de9-aa57-8a1f610745d9",
   "metadata": {},
   "outputs": [],
   "source": [
    "#Extracting the text and storing in html variable\n",
    "html=response.text"
   ]
  },
  {
   "cell_type": "code",
   "execution_count": 202,
   "id": "087eb713-519d-4690-abb9-e127b1a88f16",
   "metadata": {},
   "outputs": [
    {
     "data": {
      "text/plain": [
       "'<!DOCTYPE html>\\r\\n<html lang=\"en\">\\r\\n<head>\\r\\n<meta charset=\"utf-8\"><style>\\r\\n#pg-header div, #pg-footer div {\\r\\n    all: initial;\\r\\n    display: block;\\r\\n    margin-top: 1em;\\r\\n    margin-bottom: 1em;\\r\\n    margin-left: 2em;\\r\\n}\\r\\n#pg-footer div.agate {\\r\\n    font-size: 90%;\\r\\n    margin-top: 0;\\r\\n    margin-bottom: 0;\\r\\n    text-align: center;\\r\\n}\\r\\n#pg-footer li {\\r\\n    all: initial;\\r\\n    display: block;\\r\\n    margin-top: 1em;\\r\\n    margin-bottom: 1em;\\r\\n    text-indent: -0.6em;\\r\\n}\\r\\n#pg-footer div.secthead {\\r\\n    font-size: 110%;\\r\\n    font-weight: bold;\\r\\n}\\r\\n#pg-footer #project-gutenberg-license {\\r\\n    font-size: 110%;\\r\\n    margin-top: 0;\\r\\n    margin-bottom: 0;\\r\\n    text-align: center;\\r\\n}\\r\\n#pg-header-heading {\\r\\n    all: inherit;\\r\\n    text-align: center;\\r\\n    font-size: 120%;\\r\\n    font-weight:bold;\\r\\n}\\r\\n#pg-footer-heading {\\r\\n    all: inherit;\\r\\n    text-align: center;\\r\\n    font-size: 120%;\\r\\n    font-weight: normal;\\r\\n    margin-top: 0;\\r\\n    margin-bottom: 0;\\r\\n}\\r\\n#pg-header #pg-machine-header p {\\r\\n    text-indent: -4em;\\r\\n    margin-left: 4em;\\r\\n    margin-top: 1em;\\r\\n    margin-bottom: 0;\\r\\n    font-size: medium\\r\\n}\\r\\n#pg-header #pg-header-authlist {\\r\\n    all: initial;\\r\\n    margin-top: 0;\\r\\n    margin-bottom: 0;\\r\\n}\\r\\n#pg-header #pg-machine-header strong {\\r\\n    font-weight: normal;\\r\\n}\\r\\n#pg-header #pg-start-separator, #pg-footer #pg-end-separator {\\r\\n    margin-bottom: 3em;\\r\\n    margin-left: 0;\\r\\n    margin-right: auto;\\r\\n    margin-top: 2em;\\r\\n    text-align: center\\r\\n}\\r\\n\\r\\n    .xhtml_center {text-align: center; display: block;}\\r\\n    .xhtml_center table {\\r\\n        display: table;\\r\\n        text-align: left;\\r\\n        margin-left: auto;\\r\\n        margin-right: auto;\\r\\n        }</style><title>\\r\\n      The Adventures of Sherlock Holmes | Project Gutenberg\\r\\n    </title>\\r\\n<link href=\"images/cover.jpg\" rel=\"icon\" type=\"image/x-cover\" id=\"id-1404037713392336118\">\\r\\n<style>body {\\r\\n    text-align: justify\\r\\n    }\\r\\n@media screen {\\r\\n    body {\\r\\n        margin-left: 20%;\\r\\n        margin-right: 20%\\r\\n        }\\r\\n    }\\r\\n.page'"
      ]
     },
     "execution_count": 202,
     "metadata": {},
     "output_type": "execute_result"
    }
   ],
   "source": [
    "# First 2000 characters \n",
    "html[:2000]"
   ]
  },
  {
   "cell_type": "markdown",
   "id": "5a10e12e-faf0-46e4-8fdb-2bc713d96b0b",
   "metadata": {},
   "source": [
    "#### Step-3 : Create a Beautifulsoup object and get the text"
   ]
  },
  {
   "cell_type": "code",
   "execution_count": 207,
   "id": "f5285679-6eb1-4639-b657-1e09edbfd0a1",
   "metadata": {},
   "outputs": [],
   "source": [
    "# Creating a BeautifulSoup object from the html\n",
    "html_soup=BeautifulSoup(html,\"html.parser\")"
   ]
  },
  {
   "cell_type": "code",
   "execution_count": 258,
   "id": "ce68f30c-2076-4171-bd70-ff0632f434c0",
   "metadata": {},
   "outputs": [
    {
     "data": {
      "text/plain": [
       "'\\n\\n\\n\\r\\n      The Adventures of Sherlock Holmes | Project Gutenberg\\r\\n    \\n\\n\\n\\n\\n\\n\\n\\n\\n\\n\\n\\n\\n\\n\\n\\n\\n\\n\\n\\n\\n\\nThe Proj'"
      ]
     },
     "execution_count": 258,
     "metadata": {},
     "output_type": "execute_result"
    }
   ],
   "source": [
    "# Extracting the text from the html \n",
    "novel_text=html_soup.get_text()\n",
    "novel_text[:500] "
   ]
  },
  {
   "cell_type": "code",
   "execution_count": 256,
   "id": "80aaead6-33c8-4bab-812d-7aa480f08c0f",
   "metadata": {},
   "outputs": [
    {
     "name": "stdout",
     "output_type": "stream",
     "text": [
      "The Adventures of Sherlock Holmes\n"
     ]
    }
   ],
   "source": [
    "# Getting the book title and storing it for future reference \n",
    "import re\n",
    "match = re.search(r'[\\w\\s]+(?=\\s*\\|)',novel_text)\n",
    "if match:\n",
    "    book_title = match.group(0).strip()\n",
    "    print(book_title)"
   ]
  },
  {
   "cell_type": "markdown",
   "id": "4c98f285-3bc7-45aa-9635-945923b0344f",
   "metadata": {},
   "source": [
    "#### Step-4 :Tokenize the Text "
   ]
  },
  {
   "cell_type": "code",
   "execution_count": 212,
   "id": "4d2ecfa5-6a45-4c67-b47d-cc6d2eea7728",
   "metadata": {},
   "outputs": [
    {
     "data": {
      "text/plain": [
       "109130"
      ]
     },
     "execution_count": 212,
     "metadata": {},
     "output_type": "execute_result"
    }
   ],
   "source": [
    "# Creating a tokenizer object with an regular expression of extracting only alphanumric values \n",
    "tokenizer=nltk.tokenize.RegexpTokenizer(r'\\w+')\n",
    "# Tokenizing the text based on the regular expression and storing it in tokens\n",
    "tokens=tokenizer.tokenize(novel_text)\n",
    "len(tokens)"
   ]
  },
  {
   "cell_type": "markdown",
   "id": "e2c9e234-0515-4fac-bba6-8555053df2a7",
   "metadata": {},
   "source": [
    "#### Step-5:Convert words to lowercase "
   ]
  },
  {
   "cell_type": "code",
   "execution_count": 215,
   "id": "975a5e31-cbdb-46f3-8e8e-3b00bf3d0854",
   "metadata": {},
   "outputs": [
    {
     "data": {
      "text/plain": [
       "['the',\n",
       " 'adventures',\n",
       " 'of',\n",
       " 'sherlock',\n",
       " 'holmes',\n",
       " 'project',\n",
       " 'gutenberg',\n",
       " 'the']"
      ]
     },
     "execution_count": 215,
     "metadata": {},
     "output_type": "execute_result"
    }
   ],
   "source": [
    "# Converting the words to lowercase \n",
    "words=[word.lower() for word in tokens]\n",
    "# printing out the first 8 words \n",
    "words[:8]"
   ]
  },
  {
   "cell_type": "markdown",
   "id": "74f5da91-c459-4921-8d1e-2186ddb3e4b8",
   "metadata": {},
   "source": [
    "#### Step-6: Loading the Stop-Words"
   ]
  },
  {
   "cell_type": "code",
   "execution_count": 218,
   "id": "3d2aab8b-fe02-45e7-80fa-25fdd00f3126",
   "metadata": {},
   "outputs": [
    {
     "name": "stdout",
     "output_type": "stream",
     "text": [
      "['a', 'about', 'above', 'after', 'again', 'against', 'ain', 'all', 'am', 'an', 'and', 'any', 'are', 'aren', \"aren't\", 'as', 'at', 'be', 'because', 'been', 'before', 'being', 'below', 'between', 'both', 'but', 'by', 'can', 'couldn', \"couldn't\", 'd', 'did', 'didn', \"didn't\", 'do', 'does', 'doesn', \"doesn't\", 'doing', 'don', \"don't\", 'down', 'during', 'each', 'few', 'for', 'from', 'further', 'had', 'hadn', \"hadn't\", 'has', 'hasn', \"hasn't\", 'have', 'haven', \"haven't\", 'having', 'he', \"he'd\", \"he'll\", 'her', 'here', 'hers', 'herself', \"he's\", 'him', 'himself', 'his', 'how', 'i', \"i'd\", 'if', \"i'll\", \"i'm\", 'in', 'into', 'is', 'isn', \"isn't\", 'it', \"it'd\", \"it'll\", \"it's\", 'its', 'itself', \"i've\", 'just', 'll', 'm', 'ma', 'me', 'mightn', \"mightn't\", 'more', 'most', 'mustn', \"mustn't\", 'my', 'myself', 'needn', \"needn't\", 'no', 'nor', 'not', 'now', 'o', 'of', 'off', 'on', 'once', 'only', 'or', 'other', 'our', 'ours', 'ourselves', 'out', 'over', 'own', 're', 's', 'same', 'shan', \"shan't\", 'she', \"she'd\", \"she'll\", \"she's\", 'should', 'shouldn', \"shouldn't\", \"should've\", 'so', 'some', 'such', 't', 'than', 'that', \"that'll\", 'the', 'their', 'theirs', 'them', 'themselves', 'then', 'there', 'these', 'they', \"they'd\", \"they'll\", \"they're\", \"they've\", 'this', 'those', 'through', 'to', 'too', 'under', 'until', 'up', 've', 'very', 'was', 'wasn', \"wasn't\", 'we', \"we'd\", \"we'll\", \"we're\", 'were', 'weren', \"weren't\", \"we've\", 'what', 'when', 'where', 'which', 'while', 'who', 'whom', 'why', 'will', 'with', 'won', \"won't\", 'wouldn', \"wouldn't\", 'y', 'you', \"you'd\", \"you'll\", 'your', \"you're\", 'yours', 'yourself', 'yourselves', \"you've\"]\n"
     ]
    }
   ],
   "source": [
    "#\n",
    "print(nltk.corpus.stopwords.words('english'))\n",
    "#len(nltk.corpus.stopwords.words('english'))\n",
    "stop_words=nltk.corpus.stopwords.words('english')"
   ]
  },
  {
   "cell_type": "markdown",
   "id": "fafba35f-a055-4039-8f3b-f339fe0d0a26",
   "metadata": {},
   "source": [
    "#### Step-7 : Remove Stop Words from text"
   ]
  },
  {
   "cell_type": "code",
   "execution_count": 221,
   "id": "9a3f1bf2-c43d-44bb-840b-7655997a5eec",
   "metadata": {},
   "outputs": [
    {
     "data": {
      "text/plain": [
       "109130"
      ]
     },
     "execution_count": 221,
     "metadata": {},
     "output_type": "execute_result"
    }
   ],
   "source": [
    "# length of the whole text before removing stop words\n",
    "len(words)"
   ]
  },
  {
   "cell_type": "code",
   "execution_count": 223,
   "id": "1487eac5-bfa6-4917-bd3f-6e6f11044bfe",
   "metadata": {},
   "outputs": [],
   "source": [
    "# Removing the stop words and storing in words_no_stop\n",
    "words_no_stop=[word for word in words if word not in stop_words]"
   ]
  },
  {
   "cell_type": "code",
   "execution_count": 225,
   "id": "b73361a7-d96f-4ea3-bd6e-f51034931a69",
   "metadata": {},
   "outputs": [
    {
     "data": {
      "text/plain": [
       "49060"
      ]
     },
     "execution_count": 225,
     "metadata": {},
     "output_type": "execute_result"
    }
   ],
   "source": [
    "len(words_no_stop)"
   ]
  },
  {
   "cell_type": "markdown",
   "id": "7563b6ca-820e-48dc-ae1d-8b8dd6d18444",
   "metadata": {},
   "source": [
    "#### Step-8 : Count Frequency Of Words "
   ]
  },
  {
   "cell_type": "code",
   "execution_count": 228,
   "id": "dd768a8a-3aad-451c-8f7c-2cc1af2e3b75",
   "metadata": {},
   "outputs": [],
   "source": [
    "# Initializing Counter object \n",
    "count=Counter(words_no_stop)\n",
    "# Storing the 10 most common words along with their frequency\n",
    "top_ten=count.most_common(10)"
   ]
  },
  {
   "cell_type": "code",
   "execution_count": 230,
   "id": "f8a33dcf-6170-4b40-9477-1809fe58dcf6",
   "metadata": {},
   "outputs": [
    {
     "name": "stdout",
     "output_type": "stream",
     "text": [
      "[('said', 486), ('holmes', 467), ('upon', 467), ('one', 378), ('would', 327), ('man', 305), ('could', 287), ('mr', 275), ('little', 269), ('see', 232)]\n"
     ]
    }
   ],
   "source": [
    "# Displaying most common words \n",
    "print(top_ten)"
   ]
  },
  {
   "cell_type": "code",
   "execution_count": 232,
   "id": "f63d5e3f-fc06-450a-84b6-2bd924c939f9",
   "metadata": {},
   "outputs": [],
   "source": [
    "# Only the words\n",
    "words_list=[var[:][0] for var in top_ten]"
   ]
  },
  {
   "cell_type": "code",
   "execution_count": 234,
   "id": "6da84755-69d2-4b01-9977-84673d2b56e7",
   "metadata": {},
   "outputs": [
    {
     "data": {
      "text/plain": [
       "['said',\n",
       " 'holmes',\n",
       " 'upon',\n",
       " 'one',\n",
       " 'would',\n",
       " 'man',\n",
       " 'could',\n",
       " 'mr',\n",
       " 'little',\n",
       " 'see']"
      ]
     },
     "execution_count": 234,
     "metadata": {},
     "output_type": "execute_result"
    }
   ],
   "source": [
    "words_list"
   ]
  },
  {
   "cell_type": "markdown",
   "id": "6d42fa56-4152-43b2-bc88-701ea78585a2",
   "metadata": {},
   "source": [
    "#### Step-9: Creating a Word Cloud "
   ]
  },
  {
   "cell_type": "code",
   "execution_count": 237,
   "id": "b5f11cf8-e5d5-4f81-9edc-c67c12a7ede9",
   "metadata": {},
   "outputs": [
    {
     "data": {
      "text/plain": [
       "['said',\n",
       " 'holmes',\n",
       " 'upon',\n",
       " 'one',\n",
       " 'would',\n",
       " 'man',\n",
       " 'could',\n",
       " 'mr',\n",
       " 'little',\n",
       " 'see']"
      ]
     },
     "execution_count": 237,
     "metadata": {},
     "output_type": "execute_result"
    }
   ],
   "source": [
    "words_list"
   ]
  },
  {
   "cell_type": "code",
   "execution_count": 239,
   "id": "7d21caa6-8b60-474c-9bed-691bdfde5e2c",
   "metadata": {},
   "outputs": [],
   "source": [
    "# Joining the words in list to form a whole string \n",
    "whole_string=' '.join(words_list)"
   ]
  },
  {
   "cell_type": "code",
   "execution_count": 241,
   "id": "c7685f5b-c1eb-4e50-b33b-539f924373ee",
   "metadata": {},
   "outputs": [],
   "source": [
    "# Generating the wordcloud Image\n",
    "wordcloud=WordCloud(background_color='white',width=600,height=300).generate(whole_string)"
   ]
  },
  {
   "cell_type": "code",
   "execution_count": 260,
   "id": "bb0deba1-88ad-4491-aa66-7a3521b330c9",
   "metadata": {},
   "outputs": [
    {
     "data": {
      "image/png": "[encoded data removed]",
      "text/plain": [
       "<Figure size 640x480 with 1 Axes>"
      ]
     },
     "metadata": {},
     "output_type": "display_data"
    }
   ],
   "source": [
    "# Showing the image\n",
    "plt.imshow(wordcloud,interpolation='bilinear')\n",
    "plt.axis('off')\n",
    "plt.title(f'Top-Ten Word in {book_title}\\n')\n",
    "plt.show()"
   ]
  },
  {
   "cell_type": "code",
   "execution_count": null,
   "id": "ac56e068-7fb4-4cd7-a57a-bb2826b02402",
   "metadata": {},
   "outputs": [],
   "source": [
    "# Save the image in the img folder:\n",
    "wordcloud.to_file(\"img/first_review.png\")"
   ]
  },
  {
   "cell_type": "markdown",
   "id": "4e92bfad-a1e9-4d65-8de2-94adcf59a4f2",
   "metadata": {},
   "source": [
    "#### Saving this image "
   ]
  },
  {
   "cell_type": "code",
   "execution_count": 268,
   "id": "8a5a76d2-0c92-4a90-9b06-7269616a0ba0",
   "metadata": {},
   "outputs": [
    {
     "data": {
      "text/plain": [
       "<wordcloud.wordcloud.WordCloud at 0x1b0bc8d19d0>"
      ]
     },
     "execution_count": 268,
     "metadata": {},
     "output_type": "execute_result"
    }
   ],
   "source": [
    "# Save the image in the img folder:\n",
    "wordcloud.to_file(f'Top-10-words in {book_title}.png')"
   ]
  }
 ],
 "metadata": {
  "kernelspec": {
   "display_name": "Python [conda env:base] *",
   "language": "python",
   "name": "conda-base-py"
  },
  "language_info": {
   "codemirror_mode": {
    "name": "ipython",
    "version": 3
   },
   "file_extension": ".py",
   "mimetype": "text/x-python",
   "name": "python",
   "nbconvert_exporter": "python",
   "pygments_lexer": "ipython3",
   "version": "3.12.7"
  }
 },
 "nbformat": 4,
 "nbformat_minor": 5
}
